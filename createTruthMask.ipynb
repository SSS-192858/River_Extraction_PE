{
 "cells": [
  {
   "cell_type": "code",
   "execution_count": 79,
   "metadata": {},
   "outputs": [],
   "source": [
    "import rasterio\n",
    "from rasterio.transform import from_origin\n",
    "from rasterio.enums import Resampling\n",
    "from rasterio.features import geometry_mask\n",
    "import geopandas as gpd\n",
    "from shapely.geometry import mapping"
   ]
  },
  {
   "cell_type": "code",
   "execution_count": 80,
   "metadata": {},
   "outputs": [],
   "source": [
    "def create_binary_image(sar_image_path, shapefile_path, output_image_path):\n",
    "    # Read SAR image\n",
    "    with rasterio.open(sar_image_path) as src:\n",
    "        sar_data = src.read(1)\n",
    "        transform = src.transform\n",
    "        profile = src.profile\n",
    "\n",
    "    # Read shapefile\n",
    "    gdf = gpd.read_file(shapefile_path)\n",
    "    mask = geometry_mask(gdf.geometry, out_shape=sar_data.shape, transform=transform, invert=True)\n",
    "\n",
    "    # Create a new image with the same dimensions as the SAR image\n",
    "    binary_image = mask.astype('uint8') * 255\n",
    "\n",
    "    # Update the profile for the output image\n",
    "    profile.update(count=1, dtype='uint8')\n",
    "\n",
    "    # Write the new image\n",
    "    with rasterio.open(output_image_path, 'w', **profile) as dst:\n",
    "        dst.write(binary_image, 1)"
   ]
  },
  {
   "cell_type": "code",
   "execution_count": 81,
   "metadata": {},
   "outputs": [],
   "source": [
    "if __name__ == \"__main__\":\n",
    "    # for i in range(1,11):\n",
    "    sar_image_path = f\"data/subset_5_of_final_S1A_IW_GRDH_1SDV_20240323T094000_20240323T094025_053107_066EC8_11F5.tif\"\n",
    "    shapefile_path = f\"./shapefiles/subset_5_of_final_S1A_IW_GRDH_1SDV_20240323T094000_20240323T094025_053107_066EC8_11F5.shp\"\n",
    "    output_image_path = f\"./output_tif/subset_5_of_final_S1A_IW_GRDH_1SDV_20240323T094000_20240323T094025_053107_066EC8_11F5_new_mask.tif\"\n",
    "\n",
    "    create_binary_image(sar_image_path, shapefile_path, output_image_path)\n",
    "        # print(f'processed image {i}')"
   ]
  }
 ],
 "metadata": {
  "kernelspec": {
   "display_name": "Python 3",
   "language": "python",
   "name": "python3"
  },
  "language_info": {
   "codemirror_mode": {
    "name": "ipython",
    "version": 3
   },
   "file_extension": ".py",
   "mimetype": "text/x-python",
   "name": "python",
   "nbconvert_exporter": "python",
   "pygments_lexer": "ipython3",
   "version": "3.10.11"
  }
 },
 "nbformat": 4,
 "nbformat_minor": 2
}
