{
 "cells": [
  {
   "cell_type": "code",
   "execution_count": 15,
   "metadata": {},
   "outputs": [],
   "source": [
    "import rasterio\n",
    "import os\n",
    "import snappy\n",
    "from snappy import ProductIO, WKTReader, GPF\n",
    "\n",
    "string = \"S1A_IW_GRDH_1SDV_20240323T094000_20240323T094025_053107_066EC8_11F5\"\n",
    "\n",
    "sar_image_path = f'./data/final_{string}.dim'\n",
    "product = ProductIO.readProduct(sar_image_path)\n",
    "\n",
    "sar_image_path_tif = f'./data/final_{string}.tif'"
   ]
  },
  {
   "cell_type": "code",
   "execution_count": 16,
   "metadata": {},
   "outputs": [
    {
     "name": "stderr",
     "output_type": "stream",
     "text": [
      "WARNING:rasterio._env:CPLE_AppDefined in TIFFReadDirectory:Sum of Photometric type-related color channels and ExtraSamples doesn't match SamplesPerPixel. Defining non-color channels as ExtraSamples.\n"
     ]
    },
    {
     "name": "stdout",
     "output_type": "stream",
     "text": [
      "-61.09481282142434 -5.100124151952495 -58.489967992062965 -3.0889758938657104\n"
     ]
    }
   ],
   "source": [
    "with rasterio.open(sar_image_path_tif) as src:\n",
    "    left, bottom, right, top = src.bounds\n",
    "    print(left, bottom, right, top)"
   ]
  },
  {
   "cell_type": "code",
   "execution_count": 17,
   "metadata": {},
   "outputs": [],
   "source": [
    "left, bottom, right, top = -60, -4, -59.5, -3.5\n",
    "\n",
    "bounding_wkt = f\"POLYGON (({left} {top}, {left} {bottom}, {right} {bottom}, {right} {top}, {left} {top}))\"\n",
    "geometry = WKTReader().read(bounding_wkt)"
   ]
  },
  {
   "cell_type": "code",
   "execution_count": 18,
   "metadata": {},
   "outputs": [],
   "source": [
    "SubsetOp = snappy.jpy.get_type('org.esa.snap.core.gpf.common.SubsetOp')\n",
    "\n",
    "HashMap = snappy.jpy.get_type('java.util.HashMap')\n",
    "GPF.getDefaultInstance().getOperatorSpiRegistry().loadOperatorSpis()\n",
    "parameters = HashMap()\n",
    "parameters.put('copyMetadata', True)\n",
    "parameters.put('geoRegion', geometry)\n",
    "product_subset = snappy.GPF.createProduct('Subset', parameters, product)"
   ]
  },
  {
   "cell_type": "code",
   "execution_count": 19,
   "metadata": {},
   "outputs": [
    {
     "name": "stdout",
     "output_type": "stream",
     "text": [
      "Width: 5567 px\n",
      "Height: 5567 px\n",
      "Band names: Sigma0_VV, Sigma0_VH\n"
     ]
    }
   ],
   "source": [
    "width = product_subset.getSceneRasterWidth()\n",
    "print(\"Width: {} px\".format(width))\n",
    "height = product_subset.getSceneRasterHeight()\n",
    "print(\"Height: {} px\".format(height))\n",
    "band_names = product_subset.getBandNames()\n",
    "print(\"Band names: {}\".format(\", \".join(band_names)))"
   ]
  },
  {
   "cell_type": "code",
   "execution_count": 20,
   "metadata": {},
   "outputs": [
    {
     "data": {
      "text/plain": [
       "True"
      ]
     },
     "execution_count": 20,
     "metadata": {},
     "output_type": "execute_result"
    }
   ],
   "source": [
    "ProductIO.writeProduct(product_subset, f\"data/final_subset_{string}\", 'BEAM-DIMAP')\n",
    "os.path.exists(f\"data/final_subset_{string}.dim\")"
   ]
  }
 ],
 "metadata": {
  "kernelspec": {
   "display_name": "snappyenv",
   "language": "python",
   "name": "python3"
  },
  "language_info": {
   "codemirror_mode": {
    "name": "ipython",
    "version": 3
   },
   "file_extension": ".py",
   "mimetype": "text/x-python",
   "name": "python",
   "nbconvert_exporter": "python",
   "pygments_lexer": "ipython3",
   "version": "3.6.15"
  }
 },
 "nbformat": 4,
 "nbformat_minor": 2
}
