{
 "cells": [
  {
   "cell_type": "code",
   "execution_count": 16,
   "metadata": {},
   "outputs": [],
   "source": [
    "import numpy as np\n",
    "import os\n",
    "import snappy\n",
    "from snappy import ProductIO, WKTReader, GPF\n",
    "\n",
    "string = \"S1A_IW_GRDH_1SDV_20240109T095534_20240109T095559_052028_06499B_56C7\"\n",
    "\n",
    "sar_image_path = f'./data/final_{string}.dim'\n",
    "product = ProductIO.readProduct(sar_image_path)"
   ]
  },
  {
   "cell_type": "code",
   "execution_count": 17,
   "metadata": {},
   "outputs": [],
   "source": [
    "left, bottom, right, top = -64, -1, -63, 0\n",
    "\n",
    "bounding_wkt = f\"POLYGON (({left} {top}, {left} {bottom}, {right} {bottom}, {right} {top}, {left} {top}))\"\n",
    "geometry = WKTReader().read(bounding_wkt)"
   ]
  },
  {
   "cell_type": "code",
   "execution_count": 18,
   "metadata": {},
   "outputs": [
    {
     "name": "stdout",
     "output_type": "stream",
     "text": [
      "\n",
      "100% done.\n"
     ]
    }
   ],
   "source": [
    "SubsetOp = snappy.jpy.get_type('org.esa.snap.core.gpf.common.SubsetOp')\n",
    "\n",
    "HashMap = snappy.jpy.get_type('java.util.HashMap')\n",
    "GPF.getDefaultInstance().getOperatorSpiRegistry().loadOperatorSpis()\n",
    "parameters = HashMap()\n",
    "parameters.put('copyMetadata', True)\n",
    "parameters.put('geoRegion', geometry)\n",
    "product_subset = snappy.GPF.createProduct('Subset', parameters, product)"
   ]
  },
  {
   "cell_type": "code",
   "execution_count": 19,
   "metadata": {},
   "outputs": [
    {
     "name": "stdout",
     "output_type": "stream",
     "text": [
      "Width: 11133 px\n",
      "Height: 11133 px\n",
      "Band names: Sigma0_VV, Sigma0_VH\n",
      "java.awt.Dimension[width=11133,height=11133]\n"
     ]
    }
   ],
   "source": [
    "width = product_subset.getSceneRasterWidth()\n",
    "print(\"Width: {} px\".format(width))\n",
    "height = product_subset.getSceneRasterHeight()\n",
    "print(\"Height: {} px\".format(height))\n",
    "band_names = product_subset.getBandNames()\n",
    "print(\"Band names: {}\".format(\", \".join(band_names)))\n",
    "band = product_subset.getBand(band_names[0])\n",
    "print(band.getRasterSize())"
   ]
  },
  {
   "cell_type": "code",
   "execution_count": 20,
   "metadata": {},
   "outputs": [
    {
     "data": {
      "text/plain": [
       "True"
      ]
     },
     "execution_count": 20,
     "metadata": {},
     "output_type": "execute_result"
    }
   ],
   "source": [
    "ProductIO.writeProduct(product_subset, f\"data/final_subset_{string}\", 'BEAM-DIMAP')\n",
    "os.path.exists(f\"data/final_subset_{string}.dim\")"
   ]
  }
 ],
 "metadata": {
  "kernelspec": {
   "display_name": "snappyenv",
   "language": "python",
   "name": "python3"
  },
  "language_info": {
   "codemirror_mode": {
    "name": "ipython",
    "version": 3
   },
   "file_extension": ".py",
   "mimetype": "text/x-python",
   "name": "python",
   "nbconvert_exporter": "python",
   "pygments_lexer": "ipython3",
   "version": "3.7.12"
  }
 },
 "nbformat": 4,
 "nbformat_minor": 2
}
