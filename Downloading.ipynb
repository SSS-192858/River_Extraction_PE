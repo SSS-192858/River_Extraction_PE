{
 "cells": [
  {
   "cell_type": "code",
   "execution_count": 1,
   "metadata": {},
   "outputs": [],
   "source": [
    "from datetime import date, timedelta\n",
    "import requests\n",
    "import pandas as pd \n",
    "import geopandas as gpd \n",
    "from shapely.geometry import shape \n",
    "import os"
   ]
  },
  {
   "cell_type": "code",
   "execution_count": 2,
   "metadata": {},
   "outputs": [],
   "source": [
    "# copernicus User email\n",
    "copernicus_user = os.getenv(\"siddharth.kothari@iiitb.ac.in\")\n",
    "# copernicus User Password\n",
    "copernicus_password = os.getenv(\"Siddhu*kothari04\") \n",
    "# WKT Representation of BBOX of AOI\n",
    "ft = \"POLYGON((0 0, 0 1, 1 1, 1 0, 0 0))\" \n",
    "# Sentinel satellite that you are interested in \n",
    "data_collection = \"SENTINEL-1\"\n",
    "\n",
    "# Dates of search \n",
    "\n",
    "today = date.today()\n",
    "today_string = today.strftime(\"%Y-%m-%d\")\n",
    "yesterday = today - timedelta(days=1)\n",
    "yesterday_string = yesterday.strftime(\"%Y-%m-%d\")"
   ]
  },
  {
   "cell_type": "code",
   "execution_count": 3,
   "metadata": {},
   "outputs": [],
   "source": [
    "# to make the access token\n",
    "\n",
    "def get_keycloak(username: str, password: str) -> str:\n",
    "    data = {\n",
    "        \"client_id\": \"cdse-public\",\n",
    "        \"username\": username,\n",
    "        \"password\": password,\n",
    "        \"grant_type\": \"password\",\n",
    "    }\n",
    "    try:\n",
    "        r = requests.post(\n",
    "            \"https://identity.dataspace.copernicus.eu/auth/realms/CDSE/protocol/openid-connect/token\",\n",
    "            data=data,\n",
    "        )\n",
    "        r.raise_for_status()\n",
    "    except Exception as e:\n",
    "        raise Exception(\n",
    "            f\"Keycloak token creation failed. Reponse from the server was: {r.json()}\"\n",
    "        )\n",
    "    return r.json()[\"access_token\"]"
   ]
  },
  {
   "cell_type": "code",
   "execution_count": 4,
   "metadata": {},
   "outputs": [
    {
     "name": "stdout",
     "output_type": "stream",
     "text": [
      "no data found\n"
     ]
    }
   ],
   "source": [
    "json_ = requests.get(\n",
    "    f\"https://catalogue.dataspace.copernicus.eu/odata/v1/Products?$filter=Collection/Name eq '{data_collection}' and OData.CSC.Intersects(area=geography'SRID=4326;{ft}') and ContentDate/Start gt {yesterday_string}T00:00:00.000Z and ContentDate/Start lt {today_string}T00:00:00.000Z&$count=True&$top=1000\"\n",
    ").json()  \n",
    "p = pd.DataFrame.from_dict(json_[\"value\"]) # Fetch available dataset\n",
    "if p.shape[0] > 0 : # If we get data back\n",
    "    p[\"geometry\"] = p[\"GeoFootprint\"].apply(shape)\n",
    "    # Convert pandas dataframe to Geopandas dataframe by setting up geometry\n",
    "    productDF = gpd.GeoDataFrame(p).set_geometry(\"geometry\") \n",
    "    # Remove L1C dataset if not needed\n",
    "    productDF = productDF[~productDF[\"Name\"].str.contains(\"L1C\")] \n",
    "    print(f\" total L2A tiles found {len(productDF)}\")\n",
    "    productDF[\"identifier\"] = productDF[\"Name\"].str.split(\".\").str[0]\n",
    "    allfeat = len(productDF) \n",
    "    \n",
    "    if allfeat == 0: # If L2A tiles are not available in current query\n",
    "        print(f\"No tiles found for {today_string}\")\n",
    "    else: # If L2A tiles are available in current query\n",
    "        # download all tiles from server\n",
    "        for index,feat in enumerate(productDF.iterfeatures()):\n",
    "            try:\n",
    "                # Create requests session \n",
    "                session = requests.Session()\n",
    "                # Get access token based on username and password\n",
    "                keycloak_token = get_keycloak(copernicus_user,copernicus_password)\n",
    "                \n",
    "                session.headers.update({\"Authorization\": f\"Bearer {keycloak_token}\"})\n",
    "                url = f\"https://catalogue.dataspace.copernicus.eu/odata/v1/Products({feat['properties']['Id']})/$value\"\n",
    "                response = session.get(url, allow_redirects=False)\n",
    "                while response.status_code in (301, 302, 303, 307):\n",
    "                    url = response.headers[\"Location\"]\n",
    "                    response = session.get(url, allow_redirects=False)\n",
    "                print(feat[\"properties\"][\"Id\"])\n",
    "                file = session.get(url, verify=False, allow_redirects=True)\n",
    "\n",
    "                with open(\n",
    "                    f\"location/to/save/{feat['properties']['identifier']}.zip\", #location to save zip from copernicus \n",
    "                    \"wb\",\n",
    "                ) as p:\n",
    "                    print(feat[\"properties\"][\"Name\"])\n",
    "                    p.write(file.content)\n",
    "            except:\n",
    "                print(\"problem with server\")\n",
    "else : # If no tiles found for given date range and AOI\n",
    "    print('no data found')"
   ]
  }
 ],
 "metadata": {
  "kernelspec": {
   "display_name": "base",
   "language": "python",
   "name": "python3"
  },
  "language_info": {
   "codemirror_mode": {
    "name": "ipython",
    "version": 3
   },
   "file_extension": ".py",
   "mimetype": "text/x-python",
   "name": "python",
   "nbconvert_exporter": "python",
   "pygments_lexer": "ipython3",
   "version": "3.10.13"
  }
 },
 "nbformat": 4,
 "nbformat_minor": 2
}
