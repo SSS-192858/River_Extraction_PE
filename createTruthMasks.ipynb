{
 "cells": [
  {
   "cell_type": "code",
   "execution_count": 1,
   "metadata": {},
   "outputs": [],
   "source": [
    "import rasterio\n",
    "from rasterio.features import geometry_mask\n",
    "import geopandas as gpd\n",
    "from shapely.geometry import box\n",
    "import geopandas as gpd\n",
    "import fiona.crs as crs\n",
    "\n",
    "import os\n",
    "import glob"
   ]
  },
  {
   "cell_type": "code",
   "execution_count": 2,
   "metadata": {},
   "outputs": [],
   "source": [
    "def clip_shapefile(sar_image_path, output_file_path, input_file_path):\n",
    "\n",
    "    with rasterio.open(sar_image_path) as src:\n",
    "        left, bottom, right, top = src.bounds\n",
    "\n",
    "        # Specify the clipping extent in EPSG:4326 (WGS 84)\n",
    "    clip_extent = gpd.GeoDataFrame(geometry=[box(left, bottom, right, top)], crs=crs.CRS.from_epsg(4326))\n",
    "\n",
    "    input_data = gpd.read_file(input_file_path)\n",
    "\n",
    "    # Clip the data to the specified extent\n",
    "    clipped_data = gpd.overlay(input_data, clip_extent, how='intersection')\n",
    "\n",
    "    # Save the clipped data to a new shapefile\n",
    "    clipped_data.to_file(output_file_path, driver='ESRI Shapefile')\n"
   ]
  },
  {
   "cell_type": "code",
   "execution_count": 3,
   "metadata": {},
   "outputs": [],
   "source": [
    "def create_binary_image(sar_image_path, shapefile_path, output_image_path):\n",
    "    # Read SAR image\n",
    "    with rasterio.open(sar_image_path) as src:\n",
    "        sar_data = src.read(1)\n",
    "        transform = src.transform\n",
    "        profile = src.profile\n",
    "\n",
    "    # Read shapefile\n",
    "    gdf = gpd.read_file(shapefile_path)\n",
    "    mask = geometry_mask(gdf.geometry, out_shape=sar_data.shape, transform=transform, invert=True)\n",
    "\n",
    "    # Create a new image with the same dimensions as the SAR image\n",
    "    binary_image = mask.astype('uint8') * 255\n",
    "\n",
    "    # Update the profile for the output image\n",
    "    profile.update(count=1, dtype='uint8')\n",
    "\n",
    "    # Write the new image\n",
    "    with rasterio.open(output_image_path, 'w', **profile) as dst:\n",
    "        dst.write(binary_image, 1)"
   ]
  },
  {
   "cell_type": "code",
   "execution_count": 4,
   "metadata": {},
   "outputs": [],
   "source": [
    "def generate_water_masks(input_dir):\n",
    "    input_files = sorted(glob.glob(os.path.join(input_dir, '*.tif')))\n",
    "    input_shapefile_path = \"./Brazil_Shapefile/BRA_water_areas_dcw.shp\"\n",
    "    \n",
    "    for input_file in input_files:\n",
    "        filename = input_file.replace(\"./data\\\\\", \"\")\n",
    "        filename_tif = filename.replace(\".tif\", \"\")\n",
    "        shapefile_path = \"./shapefiles/\"+filename_tif+\".shp\"\n",
    "\n",
    "        clip_shapefile(input_file, shapefile_path, input_shapefile_path)\n",
    "\n",
    "        output_file_path = \"./output_tif/\"+filename_tif+\"_new_mask.tif\"\n",
    "        create_binary_image(input_file, shapefile_path, output_file_path)\n",
    "        print(\"Done \"+filename)"
   ]
  },
  {
   "cell_type": "code",
   "execution_count": 5,
   "metadata": {},
   "outputs": [
    {
     "name": "stdout",
     "output_type": "stream",
     "text": [
      "Done subset_1_of_final_S1A_IW_GRDH_1SDV_20240109T095534_20240109T095559_052028_06499B_56C7.tif\n",
      "Done subset_1_of_final_S1A_IW_GRDH_1SDV_20240117T085136_20240117T085201_052144_064D8C_6097.tif\n",
      "Done subset_1_of_final_S1A_IW_GRDH_1SDV_20240131T101122_20240131T101151_052349_065480_4193.tif\n",
      "Done subset_1_of_final_S1A_IW_GRDH_1SDV_20240131T101151_20240131T101216_052349_065480_8C79.tif\n",
      "Done subset_1_of_final_S1A_IW_GRDH_1SDV_20240131T101216_20240131T101241_052349_065480_5D46.tif\n",
      "Done subset_1_of_final_S1A_IW_GRDH_1SDV_20240131T101241_20240131T101306_052349_065480_3565.tif\n",
      "Done subset_1_of_final_S1A_IW_GRDH_1SDV_20240323T094000_20240323T094025_053107_066EC8_11F5.tif\n",
      "Done subset_2_of_final_S1A_IW_GRDH_1SDV_20240109T095534_20240109T095559_052028_06499B_56C7.tif\n",
      "Done subset_2_of_final_S1A_IW_GRDH_1SDV_20240117T085136_20240117T085201_052144_064D8C_6097.tif\n",
      "Done subset_2_of_final_S1A_IW_GRDH_1SDV_20240131T101151_20240131T101216_052349_065480_8C79.tif\n",
      "Done subset_2_of_final_S1A_IW_GRDH_1SDV_20240131T101216_20240131T101241_052349_065480_5D46.tif\n",
      "Done subset_2_of_final_S1A_IW_GRDH_1SDV_20240131T101241_20240131T101306_052349_065480_3565.tif\n",
      "Done subset_2_of_final_S1A_IW_GRDH_1SDV_20240323T094000_20240323T094025_053107_066EC8_11F5.tif\n",
      "Done subset_3_of_final_S1A_IW_GRDH_1SDV_20240131T101151_20240131T101216_052349_065480_8C79.tif\n",
      "Done subset_3_of_final_S1A_IW_GRDH_1SDV_20240131T101241_20240131T101306_052349_065480_3565.tif\n",
      "Done subset_3_of_final_S1A_IW_GRDH_1SDV_20240323T094000_20240323T094025_053107_066EC8_11F5.tif\n",
      "Done subset_4_of_final_S1A_IW_GRDH_1SDV_20240131T101241_20240131T101306_052349_065480_3565.tif\n",
      "Done subset_4_of_final_S1A_IW_GRDH_1SDV_20240323T094000_20240323T094025_053107_066EC8_11F5.tif\n",
      "Done subset_5_of_final_S1A_IW_GRDH_1SDV_20240131T101241_20240131T101306_052349_065480_3565.tif\n",
      "Done subset_5_of_final_S1A_IW_GRDH_1SDV_20240323T094000_20240323T094025_053107_066EC8_11F5.tif\n"
     ]
    }
   ],
   "source": [
    "if __name__ == \"__main__\":\n",
    "    generate_water_masks(\"./data/\")"
   ]
  }
 ],
 "metadata": {
  "kernelspec": {
   "display_name": "Python 3",
   "language": "python",
   "name": "python3"
  },
  "language_info": {
   "codemirror_mode": {
    "name": "ipython",
    "version": 3
   },
   "file_extension": ".py",
   "mimetype": "text/x-python",
   "name": "python",
   "nbconvert_exporter": "python",
   "pygments_lexer": "ipython3",
   "version": "3.10.11"
  }
 },
 "nbformat": 4,
 "nbformat_minor": 2
}
