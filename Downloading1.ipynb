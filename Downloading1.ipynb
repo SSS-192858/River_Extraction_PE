{
 "cells": [
  {
   "cell_type": "code",
   "execution_count": 2,
   "metadata": {},
   "outputs": [],
   "source": [
    "### Import Relevant Libraries\n",
    "\n",
    "import asf_search as asf\n",
    "import geopandas as gpd\n",
    "from shapely.geometry import box\n",
    "from datetime import date"
   ]
  },
  {
   "cell_type": "code",
   "execution_count": 3,
   "metadata": {},
   "outputs": [],
   "source": [
    "path_to_shapefile = \"./POLYGON.shp\""
   ]
  },
  {
   "cell_type": "code",
   "execution_count": 4,
   "metadata": {},
   "outputs": [
    {
     "name": "stdout",
     "output_type": "stream",
     "text": [
      "Help on module asf_search.constants.PRODUCT_TYPE in asf_search.constants:\n",
      "\n",
      "NAME\n",
      "    asf_search.constants.PRODUCT_TYPE - # Sentinel-1\n",
      "\n",
      "DATA\n",
      "    AMPLITUDE = 'AMPLITUDE'\n",
      "    AMPLITUDE_GRD = 'AMPLITUDE_GRD'\n",
      "    BURST = 'BURST'\n",
      "    COMPLEX = 'COMPLEX'\n",
      "    CSLC = 'CSLC'\n",
      "    CSLC_STATIC = 'CSLC-STATIC'\n",
      "    CSTOKES = 'CSTOKES'\n",
      "    CTIF = 'CTIF'\n",
      "    DEM = 'DEM'\n",
      "    DEM_TIFF = 'DEM_TIFF'\n",
      "    GEOTIFF = 'GEOTIFF'\n",
      "    GRD_FD = 'GRD_FD'\n",
      "    GRD_HD = 'GRD_HD'\n",
      "    GRD_HS = 'GRD_HS'\n",
      "    GRD_MD = 'GRD_MD'\n",
      "    GRD_MS = 'GRD_MS'\n",
      "    GUNW_AMP = 'GUNW_AMP'\n",
      "    GUNW_CON = 'GUNW_CON'\n",
      "    GUNW_STD = 'GUNW_STD'\n",
      "    GUNW_UNW = 'GUNW_UNW'\n",
      "    GUN_COH = 'GUNW_COH'\n",
      "    INC = 'INC'\n",
      "    INTERFEROMETRY = 'INTERFEROMETRY'\n",
      "    INTERFEROMETRY_GRD = 'INTERFEROMETRY_GRD'\n",
      "    JPG = 'JPG'\n",
      "    KMZ = 'KMZ'\n",
      "    L0 = 'L0'\n",
      "    L1 = 'L1'\n",
      "    L1A_RADAR_HDF5 = 'L1A_Radar_HDF5'\n",
      "    L1A_RADAR_QA = 'L1A_Radar_QA'\n",
      "    L1A_RADAR_RO_HDF5 = 'L1A_Radar_RO_HDF5'\n",
      "    L1A_RADAR_RO_ISO_XML = 'L1A_Radar_RO_ISO_XML'\n",
      "    L1A_RADAR_RO_QA = 'L1A_Radar_RO_QA'\n",
      "    L1B_S0_LOW_RES_HDF5 = 'L1B_S0_LoRes_HDF5'\n",
      "    L1B_S0_LOW_RES_ISO_XML = 'L1B_S0_LoRes_ISO_XML'\n",
      "    L1B_S0_LOW_RES_QA = 'L1B_S0_LoRes_QA'\n",
      "    L1C_S0_HIGH_RES_HDF5 = 'L1C_S0_HiRes_HDF5'\n",
      "    L1C_S0_HIGH_RES_ISO_XML = 'L1C_S0_HiRes_ISO_XML'\n",
      "    L1C_S0_HIGH_RES_QA = 'L1C_S0_HiRes_QA'\n",
      "    L1_0 = 'L1.0'\n",
      "    L1_1 = 'L1.1'\n",
      "    L1_5 = 'L1.5'\n",
      "    L2_2 = 'L2.2'\n",
      "    LSTOKES = 'LSTOKES'\n",
      "    LTIF = 'LTIF'\n",
      "    METADATA = 'METADATA'\n",
      "    METADATA_GRD_HD = 'METADATA_GRD_HD'\n",
      "    METADATA_GRD_HS = 'METADATA_GRD_HS'\n",
      "    METADATA_GRD_MD = 'METADATA_GRD_MD'\n",
      "    METADATA_GRD_MS = 'METADATA_GRD_MS'\n",
      "    METADATA_OCN = 'METADATA_OCN'\n",
      "    METADATA_RAW = 'METADATA_RAW'\n",
      "    METADATA_SLC = 'METADATA_SLC'\n",
      "    OCN = 'OCN'\n",
      "    PAULI = 'PAULI'\n",
      "    PROJECTED = 'PROJECTED'\n",
      "    PROJECTED_ML3X3 = 'PROJECTED_ML3X3'\n",
      "    PROJECTED_ML5X5 = 'PROJECTED_ML5X5'\n",
      "    PSTOKES = 'PSTOKES'\n",
      "    PTIF = 'PTIF'\n",
      "    RAW = 'RAW'\n",
      "    RTC = 'RTC'\n",
      "    RTC_HIGH_RES = 'RTC_HI_RES'\n",
      "    RTC_LOW_RES = 'RTC_LOW_RES'\n",
      "    RTC_STATIC = 'RTC-STATIC'\n",
      "    SLC = 'SLC'\n",
      "    SLOPE = 'SLOPE'\n",
      "    STOKES = 'STOKES'\n",
      "    THREEFP = '3FP'\n",
      "\n",
      "FILE\n",
      "    c:\\users\\admin\\conda\\lib\\site-packages\\asf_search\\constants\\product_type.py\n",
      "\n",
      "\n"
     ]
    }
   ],
   "source": [
    "help(asf.constants.PRODUCT_TYPE)"
   ]
  },
  {
   "cell_type": "code",
   "execution_count": 5,
   "metadata": {},
   "outputs": [],
   "source": [
    "### 1. Read Shapefile using Geopanda\n",
    "gdf = gpd.read_file(path_to_shapefile)\n",
    "\n",
    "### 2. Extract the Bounding Box Coordinates\n",
    "bounds = gdf.total_bounds\n",
    "\n",
    "### 3. Create GeoDataFrame of the Bounding Box \n",
    "gdf_bounds = gpd.GeoSeries([box(*bounds)])\n",
    "\n",
    "### 4. Get WKT Coordinates\n",
    "wkt_aoi = gdf_bounds.to_wkt().values.tolist()[0]"
   ]
  },
  {
   "cell_type": "code",
   "execution_count": 6,
   "metadata": {},
   "outputs": [
    {
     "name": "stdout",
     "output_type": "stream",
     "text": [
      "Total Images Found: 8\n"
     ]
    }
   ],
   "source": [
    "results = asf.search(\n",
    "    platform= asf.PLATFORM.SENTINEL1A,\n",
    "    processingLevel=[asf.PRODUCT_TYPE.GRD_HD],\n",
    "    start = date(2024, 1, 31),\n",
    "    end = date(2024, 2, 1),\n",
    "    intersectsWith = wkt_aoi\n",
    "    )\n",
    "\n",
    "print(f'Total Images Found: {len(results)}')\n",
    "\n",
    "### Save Metadata to a Dictionary\n",
    "metadata = results.geojson()"
   ]
  },
  {
   "cell_type": "code",
   "execution_count": 7,
   "metadata": {},
   "outputs": [],
   "source": [
    "USERNAME = \"siddharthkothari9403\"\n",
    "PASSWORD = \"Siddhu*kothari04\"\n",
    "path_to_download_directory = \"./data\""
   ]
  },
  {
   "cell_type": "code",
   "execution_count": 8,
   "metadata": {},
   "outputs": [],
   "source": [
    "session = asf.ASFSession().auth_with_creds(USERNAME, PASSWORD)"
   ]
  },
  {
   "cell_type": "code",
   "execution_count": null,
   "metadata": {},
   "outputs": [],
   "source": [
    "results.download(\n",
    "     path = path_to_download_directory,\n",
    "     session = session, \n",
    "     processes = 2 \n",
    "  )"
   ]
  }
 ],
 "metadata": {
  "kernelspec": {
   "display_name": "base",
   "language": "python",
   "name": "python3"
  },
  "language_info": {
   "codemirror_mode": {
    "name": "ipython",
    "version": 3
   },
   "file_extension": ".py",
   "mimetype": "text/x-python",
   "name": "python",
   "nbconvert_exporter": "python",
   "pygments_lexer": "ipython3",
   "version": "3.11.5"
  }
 },
 "nbformat": 4,
 "nbformat_minor": 2
}
