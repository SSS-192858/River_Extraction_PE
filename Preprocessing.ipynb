{
 "cells": [
  {
   "cell_type": "code",
   "execution_count": 1,
   "metadata": {},
   "outputs": [],
   "source": [
    "# %matplotlib inline\n",
    "import numpy as np\n",
    "import os\n",
    "import snappy\n",
    "from snappy import Product, ProductIO, HashMap, GPF\n",
    "\n",
    "# For shapefiles\n",
    "# import shapefile\n",
    "# import pygeoif\n",
    "filename = 'S1A_IW_GRDH_1SDV_20240117T085136_20240117T085201_052144_064D8C_6097.SAFE'\n",
    "path_to_sentinel_data = \"./data/\" + filename + \".zip\"\n",
    "product = ProductIO.readProduct(path_to_sentinel_data)"
   ]
  },
  {
   "cell_type": "code",
   "execution_count": 2,
   "metadata": {},
   "outputs": [
    {
     "name": "stdout",
     "output_type": "stream",
     "text": [
      "Width: 25972 px\n",
      "Height: 16834 px\n",
      "Name: S1A_IW_GRDH_1SDV_20240117T085136_20240117T085201_052144_064D8C_6097\n",
      "Band names: Amplitude_VH, Intensity_VH, Amplitude_VV, Intensity_VV\n"
     ]
    }
   ],
   "source": [
    "width = product.getSceneRasterWidth()\n",
    "print(\"Width: {} px\".format(width))\n",
    "height = product.getSceneRasterHeight()\n",
    "print(\"Height: {} px\".format(height))\n",
    "name = product.getName()\n",
    "print(\"Name: {}\".format(name))\n",
    "band_names = product.getBandNames()\n",
    "print(\"Band names: {}\".format(\", \".join(band_names)))"
   ]
  },
  {
   "cell_type": "code",
   "execution_count": 3,
   "metadata": {},
   "outputs": [],
   "source": [
    "parameters = HashMap()\n",
    "GPF.getDefaultInstance().getOperatorSpiRegistry().loadOperatorSpis()\n",
    "parameters.put('orbitType', 'Sentinel Precise (Auto Download)')\n",
    "parameters.put('polyDegree', '3')\n",
    "parameters.put('continueOnFail', 'false')\n",
    "\n",
    "apply_orbit_file = GPF.createProduct('Apply-Orbit-File', parameters, product)"
   ]
  },
  {
   "cell_type": "code",
   "execution_count": 4,
   "metadata": {},
   "outputs": [
    {
     "name": "stdout",
     "output_type": "stream",
     "text": [
      "Width: 25972 px\n",
      "Height: 16834 px\n",
      "Band names: Amplitude_VH, Intensity_VH, Amplitude_VV, Intensity_VV\n"
     ]
    }
   ],
   "source": [
    "width = apply_orbit_file.getSceneRasterWidth()\n",
    "print(\"Width: {} px\".format(width))\n",
    "height = apply_orbit_file.getSceneRasterHeight()\n",
    "print(\"Height: {} px\".format(height))\n",
    "band_names = apply_orbit_file.getBandNames()\n",
    "print(\"Band names: {}\".format(\", \".join(band_names)))"
   ]
  },
  {
   "cell_type": "code",
   "execution_count": 5,
   "metadata": {},
   "outputs": [],
   "source": [
    "parameters = HashMap()\n",
    "parameters.put('outputSigmaBand', True)\n",
    "parameters.put('sourceBands', 'Intensity_VV,Intensity_VH')\n",
    "parameters.put('selectedPolarisations', \"VV,VH\")\n",
    "# parameters.put('sourceBands', 'Intensity_VH')\n",
    "# parameters.put('selectedPolarisations', \"VH\")\n",
    "parameters.put('outputImageScaleInDb', False)\n",
    "\n",
    "product_calibrated = GPF.createProduct(\"Calibration\", parameters, apply_orbit_file)"
   ]
  },
  {
   "cell_type": "code",
   "execution_count": 6,
   "metadata": {},
   "outputs": [
    {
     "name": "stdout",
     "output_type": "stream",
     "text": [
      "Width: 25972 px\n",
      "Height: 16834 px\n",
      "Band names: Sigma0_VV, Sigma0_VH\n"
     ]
    }
   ],
   "source": [
    "width = product_calibrated.getSceneRasterWidth()\n",
    "print(\"Width: {} px\".format(width))\n",
    "height = product_calibrated.getSceneRasterHeight()\n",
    "print(\"Height: {} px\".format(height))\n",
    "band_names = product_calibrated.getBandNames()\n",
    "print(\"Band names: {}\".format(\", \".join(band_names)))"
   ]
  },
  {
   "cell_type": "code",
   "execution_count": 7,
   "metadata": {},
   "outputs": [],
   "source": [
    "filterSizeY = '5'\n",
    "filterSizeX = '5'\n",
    "parameters = HashMap()\n",
    "# parameters.put('sourceBands', 'Sigma0_VV')\n",
    "parameters.put('filter', 'Lee')\n",
    "parameters.put('filterSizeX', filterSizeX)\n",
    "parameters.put('filterSizeY', filterSizeY)\n",
    "parameters.put('dampingFactor', '2')\n",
    "parameters.put('estimateENL', 'true')\n",
    "parameters.put('enl', '1.0')\n",
    "parameters.put('numLooksStr', '1')\n",
    "parameters.put('targetWindowSizeStr', '3x3')\n",
    "parameters.put('sigmaStr', '0.9')\n",
    "parameters.put('anSize', '50')\n",
    "speckle_filter = GPF.createProduct('Speckle-Filter', parameters,product_calibrated)"
   ]
  },
  {
   "cell_type": "code",
   "execution_count": 8,
   "metadata": {},
   "outputs": [
    {
     "name": "stdout",
     "output_type": "stream",
     "text": [
      "Width: 25972 px\n",
      "Height: 16834 px\n",
      "Band names: Sigma0_VV, Sigma0_VH\n"
     ]
    }
   ],
   "source": [
    "width = speckle_filter.getSceneRasterWidth()\n",
    "print(\"Width: {} px\".format(width))\n",
    "height = speckle_filter.getSceneRasterHeight()\n",
    "print(\"Height: {} px\".format(height))\n",
    "band_names = speckle_filter.getBandNames()\n",
    "print(\"Band names: {}\".format(\", \".join(band_names)))"
   ]
  },
  {
   "cell_type": "code",
   "execution_count": 9,
   "metadata": {},
   "outputs": [],
   "source": [
    "parameters = HashMap()\n",
    "parameters.put('demName', 'SRTM 3Sec')\n",
    "parameters.put('pixelSpacingInMeter', 10.0)\n",
    "# parameters.put('sourceBands', 'Sigma0_VV')\n",
    "speckle_filter_tc = GPF.createProduct(\"Terrain-Correction\", parameters, speckle_filter)"
   ]
  },
  {
   "cell_type": "code",
   "execution_count": 10,
   "metadata": {},
   "outputs": [
    {
     "name": "stdout",
     "output_type": "stream",
     "text": [
      "Width: 29281 px\n",
      "Height: 22515 px\n",
      "Band names: Sigma0_VV, Sigma0_VH\n"
     ]
    }
   ],
   "source": [
    "width = speckle_filter_tc.getSceneRasterWidth()\n",
    "print(\"Width: {} px\".format(width))\n",
    "height = speckle_filter_tc.getSceneRasterHeight()\n",
    "print(\"Height: {} px\".format(height))\n",
    "band_names = speckle_filter_tc.getBandNames()\n",
    "print(\"Band names: {}\".format(\", \".join(band_names)))"
   ]
  },
  {
   "cell_type": "code",
   "execution_count": 11,
   "metadata": {},
   "outputs": [
    {
     "data": {
      "text/plain": [
       "True"
      ]
     },
     "execution_count": 11,
     "metadata": {},
     "output_type": "execute_result"
    }
   ],
   "source": [
    "ProductIO.writeProduct(speckle_filter_tc, f\"./data/final_{filename}\", 'BEAM-DIMAP')\n",
    "os.path.exists(f\"./data/final_{filename}.dim\")"
   ]
  }
 ],
 "metadata": {
  "kernelspec": {
   "display_name": "base",
   "language": "python",
   "name": "python3"
  },
  "language_info": {
   "codemirror_mode": {
    "name": "ipython",
    "version": 3
   },
   "file_extension": ".py",
   "mimetype": "text/x-python",
   "name": "python",
   "nbconvert_exporter": "python",
   "pygments_lexer": "ipython3",
   "version": "3.6.15"
  }
 },
 "nbformat": 4,
 "nbformat_minor": 2
}
