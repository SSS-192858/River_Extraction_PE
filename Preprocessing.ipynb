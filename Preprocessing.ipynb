{
 "cells": [
  {
   "cell_type": "code",
   "execution_count": 1,
   "metadata": {},
   "outputs": [
    {
     "name": "stderr",
     "output_type": "stream",
     "text": [
      "INFO: org.esa.s2tbx.dataio.gdal.GDALVersion: Incompatible GDAL 3.4.1 found on system. Internal GDAL 3.2.1 from distribution will be used.\n",
      "INFO: org.esa.s2tbx.dataio.gdal.GDALVersion: Incompatible GDAL 3.4.1 found on system. Internal GDAL 3.2.1 from distribution will be used.\n",
      "INFO: org.esa.s2tbx.dataio.gdal.GDALVersion: Internal GDAL 3.2.1 set to be used by SNAP.\n",
      "INFO: org.esa.snap.core.gpf.operators.tooladapter.ToolAdapterIO: Initializing external tool adapters\n",
      "INFO: org.esa.snap.core.util.EngineVersionCheckActivator: Please check regularly for new updates for the best SNAP experience.\n",
      "INFO: org.esa.s2tbx.dataio.gdal.GDALVersion: Internal GDAL 3.2.1 set to be used by SNAP.\n",
      "INFO: org.esa.s1tbx.commons.io.ImageIOFile: Using FileCacheImageInputStream\n"
     ]
    }
   ],
   "source": [
    "# %matplotlib inline\n",
    "import numpy as np\n",
    "import matplotlib\n",
    "import matplotlib.pyplot as plt\n",
    "import matplotlib.colors as colors\n",
    "import os\n",
    "import snappy\n",
    "from snappy import Product, ProductIO, ProductUtils, WKTReader, HashMap, GPF\n",
    "\n",
    "# For shapefiles\n",
    "# import shapefile\n",
    "# import pygeoif\n",
    "filename = 'S1A_IW_GRDH_1SDV_20240109T095534_20240109T095559_052028_06499B_56C7'\n",
    "\n",
    "path_to_sentinel_data = \"./data/\" + filename + \".SAFE.zip\"\n",
    "product = ProductIO.readProduct(path_to_sentinel_data)"
   ]
  },
  {
   "cell_type": "code",
   "execution_count": 2,
   "metadata": {},
   "outputs": [
    {
     "name": "stdout",
     "output_type": "stream",
     "text": [
      "Width: 25485 px\n",
      "Height: 16820 px\n",
      "Name: S1A_IW_GRDH_1SDV_20240109T095534_20240109T095559_052028_06499B_56C7\n",
      "Band names: Amplitude_VH, Intensity_VH, Amplitude_VV, Intensity_VV\n"
     ]
    }
   ],
   "source": [
    "width = product.getSceneRasterWidth()\n",
    "print(\"Width: {} px\".format(width))\n",
    "height = product.getSceneRasterHeight()\n",
    "print(\"Height: {} px\".format(height))\n",
    "name = product.getName()\n",
    "print(\"Name: {}\".format(name))\n",
    "band_names = product.getBandNames()\n",
    "print(\"Band names: {}\".format(\", \".join(band_names)))"
   ]
  },
  {
   "cell_type": "code",
   "execution_count": 3,
   "metadata": {},
   "outputs": [],
   "source": [
    "def plotBand(product, band, vmin, vmax):\n",
    "    band = product.getBand(band)\n",
    "    w = band.getRasterWidth()\n",
    "    h = band.getRasterHeight()\n",
    "    print(w, h)\n",
    "    band_data = np.zeros(w * h, np.float32)\n",
    "    band.readPixels(0, 0, w, h, band_data)\n",
    "    band_data.shape = h, w\n",
    "    width = 12\n",
    "    height = 12\n",
    "    plt.figure(figsize=(width, height))\n",
    "    imgplot = plt.imshow(band_data, cmap=plt.cm.binary, vmin=vmin, vmax=vmax)\n",
    "    return imgplot"
   ]
  },
  {
   "cell_type": "code",
   "execution_count": 4,
   "metadata": {},
   "outputs": [
    {
     "name": "stderr",
     "output_type": "stream",
     "text": [
      "INFO: org.hsqldb.persist.Logger: dataFileCache open start\n",
      "3089 [main] INFO org.apache.commons.httpclient.HttpMethodDirector - I/O exception (java.net.ConnectException) caught when processing request: Connection refused (Connection refused)\n",
      "3090 [main] INFO org.apache.commons.httpclient.HttpMethodDirector - Retrying request\n",
      "3293 [main] INFO org.apache.commons.httpclient.HttpMethodDirector - I/O exception (java.net.ConnectException) caught when processing request: Connection refused (Connection refused)\n",
      "3294 [main] INFO org.apache.commons.httpclient.HttpMethodDirector - Retrying request\n",
      "3498 [main] INFO org.apache.commons.httpclient.HttpMethodDirector - I/O exception (java.net.ConnectException) caught when processing request: Connection refused (Connection refused)\n",
      "3498 [main] INFO org.apache.commons.httpclient.HttpMethodDirector - Retrying request\n",
      "WARNING: org.esa.s1tbx.orbits.gpf.ApplyOrbitFileOp: No valid orbit file found for 09-JAN-2024 09:54:29.917313\n",
      "Orbit files may be downloaded from https://scihub.copernicus.eu/gnss/odata/v1/\n",
      "and placed in /home/siddharth/.snap/auxdata/Orbits/Sentinel-1/POEORB/S1A/2024/01\n",
      "WARNING: org.esa.s1tbx.orbits.gpf.ApplyOrbitFileOp: Using Sentinel Restituted /home/siddharth/.snap/auxdata/Orbits/Sentinel-1/RESORB/S1A/2024/01/S1A_OPER_AUX_RESORB_OPOD_20240109T112237_V20240109T072710_20240109T104440.EOF.zip instead\n"
     ]
    },
    {
     "name": "stdout",
     "output_type": "stream",
     "text": [
      "OpenSearch: https://scihub.copernicus.eu/gnss/search?q=platformname:Sentinel-1 AND platformnumber:A AND producttype:AUX_POEORB AND beginposition:[2024-01-01T00:00:000Z TO 2024-01-31T24:00:000Z]\n",
      "\n",
      "100% done.\n"
     ]
    }
   ],
   "source": [
    "parameters = HashMap()\n",
    "GPF.getDefaultInstance().getOperatorSpiRegistry().loadOperatorSpis()\n",
    "parameters.put('orbitType', 'Sentinel Precise (Auto Download)')\n",
    "parameters.put('polyDegree', '3')\n",
    "parameters.put('continueOnFail', 'false')\n",
    "\n",
    "apply_orbit_file = GPF.createProduct('Apply-Orbit-File', parameters, product)"
   ]
  },
  {
   "cell_type": "code",
   "execution_count": 5,
   "metadata": {},
   "outputs": [
    {
     "name": "stdout",
     "output_type": "stream",
     "text": [
      "Width: 25485 px\n",
      "Height: 16820 px\n",
      "Band names: Amplitude_VH, Intensity_VH, Amplitude_VV, Intensity_VV\n"
     ]
    }
   ],
   "source": [
    "width = apply_orbit_file.getSceneRasterWidth()\n",
    "print(\"Width: {} px\".format(width))\n",
    "height = apply_orbit_file.getSceneRasterHeight()\n",
    "print(\"Height: {} px\".format(height))\n",
    "band_names = apply_orbit_file.getBandNames()\n",
    "print(\"Band names: {}\".format(\", \".join(band_names)))"
   ]
  },
  {
   "cell_type": "code",
   "execution_count": 6,
   "metadata": {},
   "outputs": [
    {
     "name": "stdout",
     "output_type": "stream",
     "text": [
      "\n",
      "100% done.\n"
     ]
    }
   ],
   "source": [
    "parameters = HashMap()\n",
    "parameters.put('outputSigmaBand', True)\n",
    "parameters.put('sourceBands', 'Intensity_VV,Intensity_VH')\n",
    "parameters.put('selectedPolarisations', \"VV,VH\")\n",
    "# parameters.put('sourceBands', 'Intensity_VH')\n",
    "# parameters.put('selectedPolarisations', \"VH\")\n",
    "parameters.put('outputImageScaleInDb', False)\n",
    "\n",
    "product_calibrated = GPF.createProduct(\"Calibration\", parameters, apply_orbit_file)"
   ]
  },
  {
   "cell_type": "code",
   "execution_count": 7,
   "metadata": {},
   "outputs": [
    {
     "name": "stdout",
     "output_type": "stream",
     "text": [
      "Width: 25485 px\n",
      "Height: 16820 px\n",
      "Band names: Sigma0_VV, Sigma0_VH\n"
     ]
    }
   ],
   "source": [
    "width = product_calibrated.getSceneRasterWidth()\n",
    "print(\"Width: {} px\".format(width))\n",
    "height = product_calibrated.getSceneRasterHeight()\n",
    "print(\"Height: {} px\".format(height))\n",
    "band_names = product_calibrated.getBandNames()\n",
    "print(\"Band names: {}\".format(\", \".join(band_names)))"
   ]
  },
  {
   "cell_type": "code",
   "execution_count": 8,
   "metadata": {},
   "outputs": [
    {
     "name": "stdout",
     "output_type": "stream",
     "text": [
      "\n",
      "100% done.\n"
     ]
    }
   ],
   "source": [
    "filterSizeY = '5'\n",
    "filterSizeX = '5'\n",
    "parameters = HashMap()\n",
    "# parameters.put('sourceBands', 'Sigma0_VV')\n",
    "parameters.put('filter', 'Lee')\n",
    "parameters.put('filterSizeX', filterSizeX)\n",
    "parameters.put('filterSizeY', filterSizeY)\n",
    "parameters.put('dampingFactor', '2')\n",
    "parameters.put('estimateENL', 'true')\n",
    "parameters.put('enl', '1.0')\n",
    "parameters.put('numLooksStr', '1')\n",
    "parameters.put('targetWindowSizeStr', '3x3')\n",
    "parameters.put('sigmaStr', '0.9')\n",
    "parameters.put('anSize', '50')\n",
    "speckle_filter = GPF.createProduct('Speckle-Filter', parameters,product_calibrated)"
   ]
  },
  {
   "cell_type": "code",
   "execution_count": 9,
   "metadata": {},
   "outputs": [
    {
     "name": "stdout",
     "output_type": "stream",
     "text": [
      "Width: 25485 px\n",
      "Height: 16820 px\n",
      "Band names: Sigma0_VV, Sigma0_VH\n"
     ]
    }
   ],
   "source": [
    "width = speckle_filter.getSceneRasterWidth()\n",
    "print(\"Width: {} px\".format(width))\n",
    "height = speckle_filter.getSceneRasterHeight()\n",
    "print(\"Height: {} px\".format(height))\n",
    "band_names = speckle_filter.getBandNames()\n",
    "print(\"Band names: {}\".format(\", \".join(band_names)))"
   ]
  },
  {
   "cell_type": "code",
   "execution_count": 10,
   "metadata": {},
   "outputs": [
    {
     "name": "stdout",
     "output_type": "stream",
     "text": [
      "\n",
      "100% done.\n"
     ]
    }
   ],
   "source": [
    "parameters = HashMap()\n",
    "parameters.put('demName', 'SRTM 3Sec')\n",
    "parameters.put('pixelSpacingInMeter', 10.0)\n",
    "# parameters.put('sourceBands', 'Sigma0_VV')\n",
    "speckle_filter_tc = GPF.createProduct(\"Terrain-Correction\", parameters, speckle_filter)"
   ]
  },
  {
   "cell_type": "code",
   "execution_count": 11,
   "metadata": {},
   "outputs": [
    {
     "name": "stdout",
     "output_type": "stream",
     "text": [
      "Width: 28464 px\n",
      "Height: 22192 px\n",
      "Band names: Sigma0_VV, Sigma0_VH\n"
     ]
    }
   ],
   "source": [
    "width = speckle_filter_tc.getSceneRasterWidth()\n",
    "print(\"Width: {} px\".format(width))\n",
    "height = speckle_filter_tc.getSceneRasterHeight()\n",
    "print(\"Height: {} px\".format(height))\n",
    "band_names = speckle_filter_tc.getBandNames()\n",
    "print(\"Band names: {}\".format(\", \".join(band_names)))"
   ]
  },
  {
   "cell_type": "code",
   "execution_count": null,
   "metadata": {},
   "outputs": [
    {
     "data": {
      "text/plain": [
       "True"
      ]
     },
     "execution_count": 45,
     "metadata": {},
     "output_type": "execute_result"
    }
   ],
   "source": [
    "ProductIO.writeProduct(speckle_filter_tc, f\"./data/final_{filename}\", 'BEAM-DIMAP')\n",
    "os.path.exists(f\"./data/final_{filename}.dim\")"
   ]
  }
 ],
 "metadata": {
  "kernelspec": {
   "display_name": "base",
   "language": "python",
   "name": "python3"
  },
  "language_info": {
   "codemirror_mode": {
    "name": "ipython",
    "version": 3
   },
   "file_extension": ".py",
   "mimetype": "text/x-python",
   "name": "python",
   "nbconvert_exporter": "python",
   "pygments_lexer": "ipython3",
   "version": "3.6.15"
  }
 },
 "nbformat": 4,
 "nbformat_minor": 2
}
