{
 "cells": [
  {
   "cell_type": "code",
   "execution_count": 1,
   "metadata": {},
   "outputs": [],
   "source": [
    "import rasterio\n",
    "from rasterio.transform import from_origin\n",
    "import geopandas as gpd\n",
    "from shapely.geometry import box\n",
    "from fiona.crs import from_epsg"
   ]
  },
  {
   "cell_type": "code",
   "execution_count": 2,
   "metadata": {},
   "outputs": [],
   "source": [
    "sar_image_path = f'./data/final.tif'\n",
    "output_file_path = f'./shapefiles/1_new.shp'\n",
    "\n",
    "# input_file_path = './download/layers/POLYGON.shp'\n",
    "input_file_path =  \"./Brazil_Shapefile/BRA_water_areas_dcw.shp\"\n",
    "# input_file_path = \"./South_America_Shapefile/SouthAmerica.shp\""
   ]
  },
  {
   "cell_type": "code",
   "execution_count": 3,
   "metadata": {},
   "outputs": [
    {
     "name": "stdout",
     "output_type": "stream",
     "text": [
      "-64.4677103542141 -1.8215710610557243 -61.9107457294963 0.1719702174623177\n"
     ]
    }
   ],
   "source": [
    "with rasterio.open(sar_image_path) as src:\n",
    "    left, bottom, right, top = src.bounds\n",
    "    print(left, bottom, right, top)"
   ]
  },
  {
   "cell_type": "code",
   "execution_count": 7,
   "metadata": {},
   "outputs": [],
   "source": [
    "# Specify the clipping extent in EPSG:4326 (WGS 84)\n",
    "clip_extent = gpd.GeoDataFrame(geometry=[box(left, bottom, right, top)], \n",
    "                               crs=from_epsg(4326))"
   ]
  },
  {
   "cell_type": "code",
   "execution_count": 8,
   "metadata": {},
   "outputs": [],
   "source": [
    "input_data = gpd.read_file(input_file_path)\n",
    "\n",
    "# Clip the data to the specified extent\n",
    "clipped_data = gpd.overlay(input_data, clip_extent, how='intersection')\n",
    "\n",
    "# Save the clipped data to a new shapefile\n",
    "clipped_data.to_file(output_file_path, driver='ESRI Shapefile')\n"
   ]
  }
 ],
 "metadata": {
  "kernelspec": {
   "display_name": "Python 3",
   "language": "python",
   "name": "python3"
  },
  "language_info": {
   "codemirror_mode": {
    "name": "ipython",
    "version": 3
   },
   "file_extension": ".py",
   "mimetype": "text/x-python",
   "name": "python",
   "nbconvert_exporter": "python",
   "pygments_lexer": "ipython3",
   "version": "3.10.13"
  }
 },
 "nbformat": 4,
 "nbformat_minor": 2
}
